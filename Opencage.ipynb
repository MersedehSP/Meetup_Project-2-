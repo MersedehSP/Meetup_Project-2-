{
 "cells": [
  {
   "cell_type": "code",
   "execution_count": 21,
   "metadata": {},
   "outputs": [],
   "source": [
    "from opencage.geocoder import OpenCageGeocode\n",
    "from pprint import pprint\n",
    "import sys\n",
    "\n"
   ]
  },
  {
   "cell_type": "code",
   "execution_count": null,
   "metadata": {},
   "outputs": [],
   "source": [
    "key = \"4b714cac3e35422ab6bbfd133307387b\"\n",
    "geocoder = OpenCageGeocode(key)\n",
    "addressfile = '../Brian/addresses.xlsx'\n",
    "\n",
    "\n",
    "query = \"704 Chestnut St, Philadelphia, PA 19106\"\n",
    "results = geocoder.geocode(query)\n",
    "\n",
    "pprint(u'%f;%f' % (results[0]['geometry']['lat'], \n",
    "                        results[0]['geometry']['lng']))"
   ]
  },
  {
   "cell_type": "code",
   "execution_count": null,
   "metadata": {},
   "outputs": [],
   "source": [
    "\n",
    "key = \"4b714cac3e35422ab6bbfd133307387b\"\n",
    "geocoder = OpenCageGeocode(key)\n",
    "addressfile = 'Brian/addresses.csv'\n",
    "\n",
    "try: \n",
    "  with open(addressfile,'r',encoding=\"utf8\", errors='ignore') as f:\n",
    "    for line in f:\n",
    "      address = line.strip()\n",
    "      results = geocoder.geocode(address, no_annotations='1', language='en')\n",
    "\n",
    "      if results and len(results):\n",
    "        longitude = results[0]['geometry']['lng']\n",
    "        latitude  = results[0]['geometry']['lat']\n",
    "        print(u'%f;%f;%s' % (latitude, longitude, address))\n",
    "        # 40.416705;-3.703582;Madrid,Spain\n",
    "        # 45.466797;9.190498;Milan,Italy\n",
    "        # 52.517037;13.388860;Berlin,Germany\n",
    "      else:\n",
    "        sys.stderr.write(\"not found: %s\\n\" % address)\n",
    "except IOError:\n",
    "  print('Error: File %s does not appear to exist.' % addressfile)\n",
    "except RateLimitExceededError as ex:\n",
    "  print(ex)\n"
   ]
  },
  {
   "cell_type": "code",
   "execution_count": null,
   "metadata": {},
   "outputs": [],
   "source": []
  }
 ],
 "metadata": {
  "kernelspec": {
   "display_name": "Python 3",
   "language": "python",
   "name": "python3"
  },
  "language_info": {
   "codemirror_mode": {
    "name": "ipython",
    "version": 3
   },
   "file_extension": ".py",
   "mimetype": "text/x-python",
   "name": "python",
   "nbconvert_exporter": "python",
   "pygments_lexer": "ipython3",
   "version": "3.6.10"
  }
 },
 "nbformat": 4,
 "nbformat_minor": 4
}
