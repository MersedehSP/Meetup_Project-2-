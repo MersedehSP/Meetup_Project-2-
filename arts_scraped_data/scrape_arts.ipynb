{
 "cells": [
  {
   "cell_type": "code",
   "execution_count": 1,
   "metadata": {},
   "outputs": [],
   "source": [
    "# import dependendencies\n",
    "from splinter import Browser\n",
    "from bs4 import BeautifulSoup as bs\n",
    "import numpy as np"
   ]
  },
  {
   "cell_type": "code",
   "execution_count": 2,
   "metadata": {},
   "outputs": [],
   "source": [
    "# Open the browser from which we want to extract \n",
    "executable_path = {'executable_path': 'chromedriver.exe'}\n",
    "browser = Browser('chrome', **executable_path, headless=False)\n",
    "url = \"https://www.meetup.com/find/us--nj--trenton/arts-culture/?eventType=inPerson&distance=tenMiles\"\n",
    " \n",
    "browser.visit(url)\n",
    "html = browser.html"
   ]
  },
  {
   "cell_type": "code",
   "execution_count": 48,
   "metadata": {},
   "outputs": [],
   "source": [
    "# Create a beautiful soup object that stores the website's html\n",
    "soup = bs(html, 'html.parser')\n"
   ]
  },
  {
   "cell_type": "code",
   "execution_count": 61,
   "metadata": {},
   "outputs": [
    {
     "data": {
      "text/plain": [
       "['outdoors-adventure',\n",
       " 'tech',\n",
       " 'parents-family',\n",
       " 'health-wellness',\n",
       " 'sports-fitness',\n",
       " 'education',\n",
       " 'photography',\n",
       " 'food',\n",
       " 'writing',\n",
       " 'language',\n",
       " 'music',\n",
       " 'movements',\n",
       " 'lgbtq',\n",
       " 'film',\n",
       " 'games-sci-fi',\n",
       " 'beliefs',\n",
       " 'arts-culture',\n",
       " 'book-clubs',\n",
       " 'dancing',\n",
       " 'pets',\n",
       " 'hobbies-crafts',\n",
       " 'fashion-beauty',\n",
       " 'social',\n",
       " 'career-business']"
      ]
     },
     "execution_count": 61,
     "metadata": {},
     "output_type": "execute_result"
    }
   ],
   "source": [
    "categories = soup.find_all('div', 'css-1q80wuk')\n",
    "categories\n",
    "\n",
    "categories_lst = []\n",
    "\n",
    "for category in categories:\n",
    "    for a in category.find_all('a', href=True):\n",
    "        link_text = a['href']\n",
    "        category_link = link_text.split('/')\n",
    "        categories_lst.append(category_link[3])\n",
    "    \n",
    "\n",
    "categories_lst"
   ]
  },
  {
   "cell_type": "code",
   "execution_count": 4,
   "metadata": {},
   "outputs": [
    {
     "data": {
      "text/plain": [
       "['START THE NEW YEAR WITH ART - Free One Day Pass to Grounds For Sculpture Today ',\n",
       " 'Secrets of the Battle of Princeton: History and Nature Walk']"
      ]
     },
     "execution_count": 4,
     "metadata": {},
     "output_type": "execute_result"
    }
   ],
   "source": [
    "# Scrape all the events\n",
    "# class = css-1gl3lql\n",
    "events = soup.find_all('p', class_='css-1jy1jkx')\n",
    "events\n",
    "events_arr = []\n",
    "for event in events:\n",
    "    events_arr.append(event.text)\n",
    "    \n",
    "\n",
    "events_arr"
   ]
  },
  {
   "cell_type": "code",
   "execution_count": 5,
   "metadata": {},
   "outputs": [
    {
     "name": "stdout",
     "output_type": "stream",
     "text": [
      "2\n"
     ]
    }
   ],
   "source": [
    "# Number of events \n",
    "no_of_events = len(events_arr)\n",
    "print(no_of_events)\n"
   ]
  },
  {
   "cell_type": "code",
   "execution_count": 18,
   "metadata": {},
   "outputs": [
    {
     "data": {
      "text/plain": [
       "['Central Jersey 56 Plus', 'Secrets of the Battle of Princeton Tours']"
      ]
     },
     "execution_count": 18,
     "metadata": {},
     "output_type": "execute_result"
    }
   ],
   "source": [
    "events_descriptions = soup.find_all('p', class_='css-ycqk9')\n",
    "events_descriptions\n",
    "\n",
    "group_names_arr = []\n",
    "for desc in events_descriptions:\n",
    "    desc_text = desc.text\n",
    "    desc_text = desc_text.split(':')[1]\n",
    "    group_names_arr.append(desc_text)\n",
    "    \n",
    "group_names_arr"
   ]
  },
  {
   "cell_type": "code",
   "execution_count": 19,
   "metadata": {},
   "outputs": [
    {
     "data": {
      "text/plain": [
       "['1', '20']"
      ]
     },
     "execution_count": 19,
     "metadata": {},
     "output_type": "execute_result"
    }
   ],
   "source": [
    "attendees = soup.find_all('div', class_=\"css-1dwjarq\")\n",
    "attendees\n",
    "\n",
    "attendees_lst = []\n",
    "for attendee_count in attendees:\n",
    "    attendee_count = attendee_count.text\n",
    "    attendee_count = attendee_count.split(' ')[0]\n",
    "    attendees_lst.append(attendee_count)\n",
    "    \n",
    "attendees_lst"
   ]
  },
  {
   "cell_type": "code",
   "execution_count": 46,
   "metadata": {},
   "outputs": [
    {
     "data": {
      "text/plain": [
       "['https://www.meetup.com/CJ-56plus/events/275689348',\n",
       " 'https://www.meetup.com/Secrets-of-the-Princeton-Battlefield-Tours/events/272652579']"
      ]
     },
     "execution_count": 46,
     "metadata": {},
     "output_type": "execute_result"
    }
   ],
   "source": [
    "events = soup.find_all('div', class_='css-11tad7j')\n",
    "events\n",
    "event_links = []\n",
    "for event in events:\n",
    "    \n",
    "    for a in event.find_all('a', href=True):\n",
    "        link_text = a['href']\n",
    "        event_links.append(link_text)\n",
    "        \n",
    "event_links"
   ]
  },
  {
   "cell_type": "code",
   "execution_count": 47,
   "metadata": {},
   "outputs": [
    {
     "data": {
      "text/plain": [
       "[['START THE NEW YEAR WITH ART - Free One Day Pass to Grounds For Sculpture Today ',\n",
       "  'Central Jersey 56 Plus',\n",
       "  '1',\n",
       "  'https://www.meetup.com/CJ-56plus/events/275689348'],\n",
       " ['Secrets of the Battle of Princeton: History and Nature Walk',\n",
       "  'Secrets of the Battle of Princeton Tours',\n",
       "  '20',\n",
       "  'https://www.meetup.com/Secrets-of-the-Princeton-Battlefield-Tours/events/272652579']]"
      ]
     },
     "execution_count": 47,
     "metadata": {},
     "output_type": "execute_result"
    }
   ],
   "source": [
    "grouped_lst = []\n",
    "\n",
    "for event, group_name, attendee_count, event_link in zip(events_arr, group_names_arr, attendees_lst, event_links):\n",
    "    grouped_lst.append([event, group_name, attendee_count, event_link])\n",
    "    \n",
    "grouped_lst"
   ]
  },
  {
   "cell_type": "code",
   "execution_count": null,
   "metadata": {},
   "outputs": [],
   "source": []
  },
  {
   "cell_type": "code",
   "execution_count": 7,
   "metadata": {},
   "outputs": [],
   "source": [
    "# Load the scraped data into a dataframe"
   ]
  }
 ],
 "metadata": {
  "kernelspec": {
   "display_name": "Python 3",
   "language": "python",
   "name": "python3"
  },
  "language_info": {
   "codemirror_mode": {
    "name": "ipython",
    "version": 3
   },
   "file_extension": ".py",
   "mimetype": "text/x-python",
   "name": "python",
   "nbconvert_exporter": "python",
   "pygments_lexer": "ipython3",
   "version": "3.6.10"
  }
 },
 "nbformat": 4,
 "nbformat_minor": 4
}
