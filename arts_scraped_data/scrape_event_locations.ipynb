{
 "cells": [
  {
   "cell_type": "code",
   "execution_count": 2,
   "metadata": {},
   "outputs": [],
   "source": [
    "# import dependencies\n",
    "import pandas as pd\n",
    "from splinter import Browser\n",
    "from bs4 import BeautifulSoup as bs"
   ]
  },
  {
   "cell_type": "code",
   "execution_count": 42,
   "metadata": {},
   "outputs": [
    {
     "data": {
      "text/html": [
       "<div>\n",
       "<style scoped>\n",
       "    .dataframe tbody tr th:only-of-type {\n",
       "        vertical-align: middle;\n",
       "    }\n",
       "\n",
       "    .dataframe tbody tr th {\n",
       "        vertical-align: top;\n",
       "    }\n",
       "\n",
       "    .dataframe thead th {\n",
       "        text-align: right;\n",
       "    }\n",
       "</style>\n",
       "<table border=\"1\" class=\"dataframe\">\n",
       "  <thead>\n",
       "    <tr style=\"text-align: right;\">\n",
       "      <th></th>\n",
       "      <th>state</th>\n",
       "      <th>city</th>\n",
       "      <th>event_name</th>\n",
       "      <th>group_name</th>\n",
       "      <th>attendees</th>\n",
       "      <th>event_link</th>\n",
       "      <th>lat</th>\n",
       "      <th>lng</th>\n",
       "      <th>population</th>\n",
       "    </tr>\n",
       "  </thead>\n",
       "  <tbody>\n",
       "    <tr>\n",
       "      <th>0</th>\n",
       "      <td>NJ</td>\n",
       "      <td>Trenton</td>\n",
       "      <td>THURSDAY AFTERNOON AEROBIC HIKE</td>\n",
       "      <td>Washington Crossing Park Association of NJ</td>\n",
       "      <td>8</td>\n",
       "      <td>https://www.meetup.com/washingtoncrossingstate...</td>\n",
       "      <td>40.2236</td>\n",
       "      <td>-74.7641</td>\n",
       "      <td>290716</td>\n",
       "    </tr>\n",
       "    <tr>\n",
       "      <th>1</th>\n",
       "      <td>NJ</td>\n",
       "      <td>Trenton</td>\n",
       "      <td>Fly-In at Ellisdale Fields</td>\n",
       "      <td>NJ Drone User Group</td>\n",
       "      <td>1</td>\n",
       "      <td>https://www.meetup.com/NJ-Dug/events/275376752</td>\n",
       "      <td>40.2236</td>\n",
       "      <td>-74.7641</td>\n",
       "      <td>290716</td>\n",
       "    </tr>\n",
       "    <tr>\n",
       "      <th>2</th>\n",
       "      <td>NJ</td>\n",
       "      <td>Trenton</td>\n",
       "      <td>SMART RECOVERY at LifeBack</td>\n",
       "      <td>S.M.A.R.T. Recovery at LifeBack</td>\n",
       "      <td>1</td>\n",
       "      <td>https://www.meetup.com/S-M-A-R-T-Recovery-at-L...</td>\n",
       "      <td>40.2236</td>\n",
       "      <td>-74.7641</td>\n",
       "      <td>290716</td>\n",
       "    </tr>\n",
       "    <tr>\n",
       "      <th>3</th>\n",
       "      <td>NJ</td>\n",
       "      <td>Trenton</td>\n",
       "      <td>Lifeback's Helping Families Affected By Addiction</td>\n",
       "      <td>Lifeback's Helping Families Affected By Addiction</td>\n",
       "      <td>1</td>\n",
       "      <td>https://www.meetup.com/Lifebacks-Helping-Famil...</td>\n",
       "      <td>40.2236</td>\n",
       "      <td>-74.7641</td>\n",
       "      <td>290716</td>\n",
       "    </tr>\n",
       "    <tr>\n",
       "      <th>4</th>\n",
       "      <td>NJ</td>\n",
       "      <td>Trenton</td>\n",
       "      <td>Flying Solo Support Group</td>\n",
       "      <td>Flying Solo Support Group</td>\n",
       "      <td>1</td>\n",
       "      <td>https://www.meetup.com/meetup-group-uLdxSObt/e...</td>\n",
       "      <td>40.2236</td>\n",
       "      <td>-74.7641</td>\n",
       "      <td>290716</td>\n",
       "    </tr>\n",
       "  </tbody>\n",
       "</table>\n",
       "</div>"
      ],
      "text/plain": [
       "  state     city                                         event_name  \\\n",
       "0    NJ  Trenton                   THURSDAY AFTERNOON AEROBIC HIKE    \n",
       "1    NJ  Trenton                         Fly-In at Ellisdale Fields   \n",
       "2    NJ  Trenton                         SMART RECOVERY at LifeBack   \n",
       "3    NJ  Trenton  Lifeback's Helping Families Affected By Addiction   \n",
       "4    NJ  Trenton                          Flying Solo Support Group   \n",
       "\n",
       "                                          group_name  attendees  \\\n",
       "0         Washington Crossing Park Association of NJ          8   \n",
       "1                                NJ Drone User Group          1   \n",
       "2                    S.M.A.R.T. Recovery at LifeBack          1   \n",
       "3  Lifeback's Helping Families Affected By Addiction          1   \n",
       "4                          Flying Solo Support Group          1   \n",
       "\n",
       "                                          event_link      lat      lng  \\\n",
       "0  https://www.meetup.com/washingtoncrossingstate...  40.2236 -74.7641   \n",
       "1     https://www.meetup.com/NJ-Dug/events/275376752  40.2236 -74.7641   \n",
       "2  https://www.meetup.com/S-M-A-R-T-Recovery-at-L...  40.2236 -74.7641   \n",
       "3  https://www.meetup.com/Lifebacks-Helping-Famil...  40.2236 -74.7641   \n",
       "4  https://www.meetup.com/meetup-group-uLdxSObt/e...  40.2236 -74.7641   \n",
       "\n",
       "   population  \n",
       "0      290716  \n",
       "1      290716  \n",
       "2      290716  \n",
       "3      290716  \n",
       "4      290716  "
      ]
     },
     "execution_count": 42,
     "metadata": {},
     "output_type": "execute_result"
    }
   ],
   "source": [
    "# import data from csv file\n",
    "event_links_df = pd.read_csv('Final_data.csv')\n",
    "event_links_df = event_links_df.head(5)\n",
    "event_links_df"
   ]
  },
  {
   "cell_type": "code",
   "execution_count": 47,
   "metadata": {},
   "outputs": [
    {
     "data": {
      "text/plain": [
       "['https://www.meetup.com/washingtoncrossingstatepark/events/275752986',\n",
       " 'https://www.meetup.com/NJ-Dug/events/275376752',\n",
       " 'https://www.meetup.com/S-M-A-R-T-Recovery-at-LifeBack/events/275708707',\n",
       " 'https://www.meetup.com/Lifebacks-Helping-Families-Affected-By-Addiction/events/275756516',\n",
       " 'https://www.meetup.com/meetup-group-uLdxSObt/events/275759437']"
      ]
     },
     "execution_count": 47,
     "metadata": {},
     "output_type": "execute_result"
    }
   ],
   "source": [
    "event_links = list(event_links_df['event_link'])\n",
    "event_links"
   ]
  },
  {
   "cell_type": "code",
   "execution_count": 31,
   "metadata": {},
   "outputs": [
    {
     "data": {
      "text/plain": [
       "'https://www.google.com/maps/search/?api=1&query=Kinkora+Trail%2C+25020+Mt+Pleasant+Rd%2C+Columbus%2C+NJ%2C+08022%2C+us&query_place_id=ChIJ8T9cZe1EwYkR7QtjLPZJN7M'"
      ]
     },
     "execution_count": 31,
     "metadata": {},
     "output_type": "execute_result"
    }
   ],
   "source": [
    "executable_path = {'executable_path': 'chromedriver.exe'}\n",
    "browser = Browser('chrome', **executable_path, headless=False)\n",
    "\n",
    "event_link = \"https://www.meetup.com/Healthy-Mount-Holly/events/273440229\"\n",
    "browser.visit(event_link)\n",
    "html = browser.html\n",
    "\n",
    "soup = bs(html, 'html.parser')\n",
    "\n",
    "\n",
    "event_location_map_link = soup.find('a', class_='venueDisplay-venue')['href']\n",
    "event_location_map_link\n",
    "\n"
   ]
  },
  {
   "cell_type": "code",
   "execution_count": 49,
   "metadata": {},
   "outputs": [],
   "source": [
    "executable_path = {'executable_path': 'chromedriver.exe'}\n",
    "browser = Browser('chrome', **executable_path, headless=False)\n",
    "\n",
    "\n",
    "venue_df = []\n",
    "for link in event_links:\n",
    "\n",
    "    browser.visit(link)\n",
    "    html = browser.html\n",
    "\n",
    "    soup = bs(html, 'html.parser')\n",
    "\n",
    "    # Retrieve Google Map Link\n",
    "    event_location_map_link = soup.find('a', class_='venueDisplay-venue')['href']\n",
    "    \n",
    "    # Retrieve street from the address\n",
    "    event_street = soup.find('p', class_='venueDisplay-venue-address').text.split(' · ')[0]\n",
    "    \n",
    "    # Retrieve city from the address\n",
    "    event_city = soup.find('p', class_='venueDisplay-venue-address').find_all('span')[0].text[3:]\n",
    "    \n",
    "    # Retrieve state from the address\n",
    "    event_state = soup.find('p', class_='venueDisplay-venue-address').find_all('span')[1].text[2:].upper()\n",
    "    \n",
    "    venue_data = {\n",
    "        'Google_Map_Link' : event_location_map_link,\n",
    "        'event_street' : event_street,\n",
    "        'event_city' : event_city,\n",
    "        'event_state' : event_state\n",
    "    }\n",
    "    \n",
    "    venue_df.append(venue_data)\n",
    "    \n",
    "browser.quit()\n",
    " \n",
    "\n"
   ]
  },
  {
   "cell_type": "code",
   "execution_count": 50,
   "metadata": {},
   "outputs": [
    {
     "data": {
      "text/plain": [
       "[{'Google_Map_Link': 'https://www.google.com/maps/search/?api=1&query=40.313763%2C-74.862940',\n",
       "  'event_street': '355 Washington Crossing Pennington Rd.',\n",
       "  'event_city': 'Titusville',\n",
       "  'event_state': 'NJ'},\n",
       " {'Google_Map_Link': 'https://www.google.com/maps/search/?api=1&query=40.145592%2C-74.635338',\n",
       "  'event_street': '410 Ellisdale Road',\n",
       "  'event_city': 'Chesterfield ',\n",
       "  'event_state': 'NJ'},\n",
       " {'Google_Map_Link': 'https://www.google.com/maps/search/?api=1&query=40.285095%2C-74.709435',\n",
       "  'event_street': '4 Princess Rd',\n",
       "  'event_city': 'Lawrence Township',\n",
       "  'event_state': 'NJ'},\n",
       " {'Google_Map_Link': 'https://www.google.com/maps/search/?api=1&query=40.285095%2C-74.709435',\n",
       "  'event_street': '4 Princess Rd',\n",
       "  'event_city': 'Lawrence Township',\n",
       "  'event_state': 'NJ'},\n",
       " {'Google_Map_Link': 'https://www.google.com/maps/search/?api=1&query=25+N.+Chancellor+St.+%2C+Newtown%2C+PA%2C+18940%2C+us',\n",
       "  'event_street': '25 N. Chancellor St. ',\n",
       "  'event_city': 'Newtown',\n",
       "  'event_state': 'PA'}]"
      ]
     },
     "execution_count": 50,
     "metadata": {},
     "output_type": "execute_result"
    }
   ],
   "source": [
    "venue_df"
   ]
  },
  {
   "cell_type": "code",
   "execution_count": null,
   "metadata": {},
   "outputs": [],
   "source": []
  }
 ],
 "metadata": {
  "kernelspec": {
   "display_name": "Python 3",
   "language": "python",
   "name": "python3"
  },
  "language_info": {
   "codemirror_mode": {
    "name": "ipython",
    "version": 3
   },
   "file_extension": ".py",
   "mimetype": "text/x-python",
   "name": "python",
   "nbconvert_exporter": "python",
   "pygments_lexer": "ipython3",
   "version": "3.6.10"
  }
 },
 "nbformat": 4,
 "nbformat_minor": 4
}
