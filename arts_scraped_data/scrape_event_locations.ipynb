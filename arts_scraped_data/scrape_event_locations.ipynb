{
 "cells": [
  {
   "cell_type": "code",
   "execution_count": 1,
   "metadata": {},
   "outputs": [],
   "source": [
    "# import dependencies\n",
    "import pandas as pd"
   ]
  },
  {
   "cell_type": "code",
   "execution_count": 3,
   "metadata": {},
   "outputs": [
    {
     "data": {
      "text/html": [
       "<div>\n",
       "<style scoped>\n",
       "    .dataframe tbody tr th:only-of-type {\n",
       "        vertical-align: middle;\n",
       "    }\n",
       "\n",
       "    .dataframe tbody tr th {\n",
       "        vertical-align: top;\n",
       "    }\n",
       "\n",
       "    .dataframe thead th {\n",
       "        text-align: right;\n",
       "    }\n",
       "</style>\n",
       "<table border=\"1\" class=\"dataframe\">\n",
       "  <thead>\n",
       "    <tr style=\"text-align: right;\">\n",
       "      <th></th>\n",
       "      <th>event_link</th>\n",
       "    </tr>\n",
       "  </thead>\n",
       "  <tbody>\n",
       "    <tr>\n",
       "      <th>0</th>\n",
       "      <td>https://www.meetup.com/washingtoncrossingstate...</td>\n",
       "    </tr>\n",
       "    <tr>\n",
       "      <th>1</th>\n",
       "      <td>https://www.meetup.com/NJ-Dug/events/275376752</td>\n",
       "    </tr>\n",
       "    <tr>\n",
       "      <th>2</th>\n",
       "      <td>https://www.meetup.com/S-M-A-R-T-Recovery-at-L...</td>\n",
       "    </tr>\n",
       "    <tr>\n",
       "      <th>3</th>\n",
       "      <td>https://www.meetup.com/Lifebacks-Helping-Famil...</td>\n",
       "    </tr>\n",
       "    <tr>\n",
       "      <th>4</th>\n",
       "      <td>https://www.meetup.com/meetup-group-uLdxSObt/e...</td>\n",
       "    </tr>\n",
       "    <tr>\n",
       "      <th>...</th>\n",
       "      <td>...</td>\n",
       "    </tr>\n",
       "    <tr>\n",
       "      <th>1785</th>\n",
       "      <td>https://www.meetup.com/S-M-A-R-T-Recovery-at-L...</td>\n",
       "    </tr>\n",
       "    <tr>\n",
       "      <th>1786</th>\n",
       "      <td>https://www.meetup.com/Lifebacks-Helping-Famil...</td>\n",
       "    </tr>\n",
       "    <tr>\n",
       "      <th>1787</th>\n",
       "      <td>https://www.meetup.com/BucksMont-Squires-of-So...</td>\n",
       "    </tr>\n",
       "    <tr>\n",
       "      <th>1788</th>\n",
       "      <td>https://www.meetup.com/Danville-Ukulele-Meetup...</td>\n",
       "    </tr>\n",
       "    <tr>\n",
       "      <th>1789</th>\n",
       "      <td>https://www.meetup.com/Mountain-Top-Performanc...</td>\n",
       "    </tr>\n",
       "  </tbody>\n",
       "</table>\n",
       "<p>1790 rows × 1 columns</p>\n",
       "</div>"
      ],
      "text/plain": [
       "                                             event_link\n",
       "0     https://www.meetup.com/washingtoncrossingstate...\n",
       "1        https://www.meetup.com/NJ-Dug/events/275376752\n",
       "2     https://www.meetup.com/S-M-A-R-T-Recovery-at-L...\n",
       "3     https://www.meetup.com/Lifebacks-Helping-Famil...\n",
       "4     https://www.meetup.com/meetup-group-uLdxSObt/e...\n",
       "...                                                 ...\n",
       "1785  https://www.meetup.com/S-M-A-R-T-Recovery-at-L...\n",
       "1786  https://www.meetup.com/Lifebacks-Helping-Famil...\n",
       "1787  https://www.meetup.com/BucksMont-Squires-of-So...\n",
       "1788  https://www.meetup.com/Danville-Ukulele-Meetup...\n",
       "1789  https://www.meetup.com/Mountain-Top-Performanc...\n",
       "\n",
       "[1790 rows x 1 columns]"
      ]
     },
     "execution_count": 3,
     "metadata": {},
     "output_type": "execute_result"
    }
   ],
   "source": [
    "# import data from csv file\n",
    "event_links_df = pd.read_csv('Final_data.csv', usecols=['event_link'])\n",
    "event_links_df"
   ]
  }
 ],
 "metadata": {
  "kernelspec": {
   "display_name": "Python 3",
   "language": "python",
   "name": "python3"
  },
  "language_info": {
   "codemirror_mode": {
    "name": "ipython",
    "version": 3
   },
   "file_extension": ".py",
   "mimetype": "text/x-python",
   "name": "python",
   "nbconvert_exporter": "python",
   "pygments_lexer": "ipython3",
   "version": "3.6.10"
  }
 },
 "nbformat": 4,
 "nbformat_minor": 4
}
